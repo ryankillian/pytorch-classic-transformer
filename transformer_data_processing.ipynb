{
  "nbformat": 4,
  "nbformat_minor": 0,
  "metadata": {
    "colab": {
      "provenance": [],
      "toc_visible": true
    },
    "kernelspec": {
      "name": "python3",
      "display_name": "Python 3"
    },
    "language_info": {
      "name": "python"
    }
  },
  "cells": [
    {
      "cell_type": "code",
      "execution_count": 1,
      "metadata": {
        "colab": {
          "base_uri": "https://localhost:8080/"
        },
        "id": "tkvIWPMEryOg",
        "outputId": "ecd9dcd0-d401-46b1-ae8e-cd768cc66891"
      },
      "outputs": [
        {
          "output_type": "stream",
          "name": "stdout",
          "text": [
            "Collecting datasets\n",
            "  Downloading datasets-2.14.4-py3-none-any.whl (519 kB)\n",
            "\u001b[2K     \u001b[90m━━━━━━━━━━━━━━━━━━━━━━━━━━━━━━━━━━━━━━━\u001b[0m \u001b[32m519.3/519.3 kB\u001b[0m \u001b[31m9.2 MB/s\u001b[0m eta \u001b[36m0:00:00\u001b[0m\n",
            "\u001b[?25hCollecting tokenizers\n",
            "  Downloading tokenizers-0.13.3-cp310-cp310-manylinux_2_17_x86_64.manylinux2014_x86_64.whl (7.8 MB)\n",
            "\u001b[2K     \u001b[90m━━━━━━━━━━━━━━━━━━━━━━━━━━━━━━━━━━━━━━━━\u001b[0m \u001b[32m7.8/7.8 MB\u001b[0m \u001b[31m82.1 MB/s\u001b[0m eta \u001b[36m0:00:00\u001b[0m\n",
            "\u001b[?25hRequirement already satisfied: numpy>=1.17 in /usr/local/lib/python3.10/dist-packages (from datasets) (1.23.5)\n",
            "Requirement already satisfied: pyarrow>=8.0.0 in /usr/local/lib/python3.10/dist-packages (from datasets) (9.0.0)\n",
            "Collecting dill<0.3.8,>=0.3.0 (from datasets)\n",
            "  Downloading dill-0.3.7-py3-none-any.whl (115 kB)\n",
            "\u001b[2K     \u001b[90m━━━━━━━━━━━━━━━━━━━━━━━━━━━━━━━━━━━━━━\u001b[0m \u001b[32m115.3/115.3 kB\u001b[0m \u001b[31m13.9 MB/s\u001b[0m eta \u001b[36m0:00:00\u001b[0m\n",
            "\u001b[?25hRequirement already satisfied: pandas in /usr/local/lib/python3.10/dist-packages (from datasets) (1.5.3)\n",
            "Requirement already satisfied: requests>=2.19.0 in /usr/local/lib/python3.10/dist-packages (from datasets) (2.31.0)\n",
            "Requirement already satisfied: tqdm>=4.62.1 in /usr/local/lib/python3.10/dist-packages (from datasets) (4.66.1)\n",
            "Collecting xxhash (from datasets)\n",
            "  Downloading xxhash-3.3.0-cp310-cp310-manylinux_2_17_x86_64.manylinux2014_x86_64.whl (194 kB)\n",
            "\u001b[2K     \u001b[90m━━━━━━━━━━━━━━━━━━━━━━━━━━━━━━━━━━━━━━\u001b[0m \u001b[32m194.1/194.1 kB\u001b[0m \u001b[31m19.6 MB/s\u001b[0m eta \u001b[36m0:00:00\u001b[0m\n",
            "\u001b[?25hCollecting multiprocess (from datasets)\n",
            "  Downloading multiprocess-0.70.15-py310-none-any.whl (134 kB)\n",
            "\u001b[2K     \u001b[90m━━━━━━━━━━━━━━━━━━━━━━━━━━━━━━━━━━━━━━\u001b[0m \u001b[32m134.8/134.8 kB\u001b[0m \u001b[31m15.7 MB/s\u001b[0m eta \u001b[36m0:00:00\u001b[0m\n",
            "\u001b[?25hRequirement already satisfied: fsspec[http]>=2021.11.1 in /usr/local/lib/python3.10/dist-packages (from datasets) (2023.6.0)\n",
            "Requirement already satisfied: aiohttp in /usr/local/lib/python3.10/dist-packages (from datasets) (3.8.5)\n",
            "Collecting huggingface-hub<1.0.0,>=0.14.0 (from datasets)\n",
            "  Downloading huggingface_hub-0.16.4-py3-none-any.whl (268 kB)\n",
            "\u001b[2K     \u001b[90m━━━━━━━━━━━━━━━━━━━━━━━━━━━━━━━━━━━━━━\u001b[0m \u001b[32m268.8/268.8 kB\u001b[0m \u001b[31m20.0 MB/s\u001b[0m eta \u001b[36m0:00:00\u001b[0m\n",
            "\u001b[?25hRequirement already satisfied: packaging in /usr/local/lib/python3.10/dist-packages (from datasets) (23.1)\n",
            "Requirement already satisfied: pyyaml>=5.1 in /usr/local/lib/python3.10/dist-packages (from datasets) (6.0.1)\n",
            "Requirement already satisfied: attrs>=17.3.0 in /usr/local/lib/python3.10/dist-packages (from aiohttp->datasets) (23.1.0)\n",
            "Requirement already satisfied: charset-normalizer<4.0,>=2.0 in /usr/local/lib/python3.10/dist-packages (from aiohttp->datasets) (3.2.0)\n",
            "Requirement already satisfied: multidict<7.0,>=4.5 in /usr/local/lib/python3.10/dist-packages (from aiohttp->datasets) (6.0.4)\n",
            "Requirement already satisfied: async-timeout<5.0,>=4.0.0a3 in /usr/local/lib/python3.10/dist-packages (from aiohttp->datasets) (4.0.3)\n",
            "Requirement already satisfied: yarl<2.0,>=1.0 in /usr/local/lib/python3.10/dist-packages (from aiohttp->datasets) (1.9.2)\n",
            "Requirement already satisfied: frozenlist>=1.1.1 in /usr/local/lib/python3.10/dist-packages (from aiohttp->datasets) (1.4.0)\n",
            "Requirement already satisfied: aiosignal>=1.1.2 in /usr/local/lib/python3.10/dist-packages (from aiohttp->datasets) (1.3.1)\n",
            "Requirement already satisfied: filelock in /usr/local/lib/python3.10/dist-packages (from huggingface-hub<1.0.0,>=0.14.0->datasets) (3.12.2)\n",
            "Requirement already satisfied: typing-extensions>=3.7.4.3 in /usr/local/lib/python3.10/dist-packages (from huggingface-hub<1.0.0,>=0.14.0->datasets) (4.7.1)\n",
            "Requirement already satisfied: idna<4,>=2.5 in /usr/local/lib/python3.10/dist-packages (from requests>=2.19.0->datasets) (3.4)\n",
            "Requirement already satisfied: urllib3<3,>=1.21.1 in /usr/local/lib/python3.10/dist-packages (from requests>=2.19.0->datasets) (2.0.4)\n",
            "Requirement already satisfied: certifi>=2017.4.17 in /usr/local/lib/python3.10/dist-packages (from requests>=2.19.0->datasets) (2023.7.22)\n",
            "Requirement already satisfied: python-dateutil>=2.8.1 in /usr/local/lib/python3.10/dist-packages (from pandas->datasets) (2.8.2)\n",
            "Requirement already satisfied: pytz>=2020.1 in /usr/local/lib/python3.10/dist-packages (from pandas->datasets) (2023.3)\n",
            "Requirement already satisfied: six>=1.5 in /usr/local/lib/python3.10/dist-packages (from python-dateutil>=2.8.1->pandas->datasets) (1.16.0)\n",
            "Installing collected packages: tokenizers, xxhash, dill, multiprocess, huggingface-hub, datasets\n",
            "Successfully installed datasets-2.14.4 dill-0.3.7 huggingface-hub-0.16.4 multiprocess-0.70.15 tokenizers-0.13.3 xxhash-3.3.0\n"
          ]
        }
      ],
      "source": [
        "!pip install datasets tokenizers"
      ]
    },
    {
      "cell_type": "code",
      "source": [
        "dataset = {'id': ['0', '1', '2', '3', '4', '5', '6', '7', '8', '9'], 'translation': [{'en': 'The Wanderer', 'fr': 'Le grand Meaulnes'}, {'en': 'Alain-Fournier', 'fr': 'Alain-Fournier'}, {'en': 'First Part', 'fr': 'PREMIÈRE PARTIE'}, {'en': 'I', 'fr': 'CHAPITRE PREMIER'}, {'en': 'THE BOARDER', 'fr': 'LE PENSIONNAIRE'}, {'en': 'He arrived at our home on a Sunday of November, 189-.', 'fr': 'Il arriva chez nous un dimanche de novembre 189-…'}, {'en': \"I still say 'our home,' although the house no longer belongs to us.\", 'fr': 'Je continue à dire « chez nous », bien que la maison ne nous appartienne plus.'}, {'en': 'We left that part of the country nearly fifteen years ago and shall certainly never go back to it.', 'fr': 'Nous avons quitté le pays depuis bientôt quinze ans et nous n’y reviendrons certainement jamais.'}, {'en': \"We were living in the building of the Higher Elementary Classes at Sainte-Agathe's School.\", 'fr': 'Nous habitions les bâtiments du Cours Supérieur de Sainte-Agathe.'}, {'en': \"My father, whom I used to call M. Seurel as did other pupils, was head of the Middle School and also of the Higher Elementary classes where pupils worked for the preliminary teacher's examination.\", 'fr': 'Mon père, que j’appelais M. Seurel, comme les autres élèves, y dirigeait à la fois le Cours Supérieur, où l’on préparait le brevet d’instituteur, et le Cours Moyen.'}]}"
      ],
      "metadata": {
        "id": "XzeAmEEgr2wy"
      },
      "execution_count": 2,
      "outputs": []
    },
    {
      "cell_type": "code",
      "source": [
        "max_length_en_item = max(dataset['translation'], key=lambda x: len(x['en'].split()))\n",
        "print(len(max_length_en_item['en'].split()))\n",
        "print(max_length_en_item['en'])"
      ],
      "metadata": {
        "colab": {
          "base_uri": "https://localhost:8080/"
        },
        "id": "KWFmg78GsLeK",
        "outputId": "fc0808ea-d5db-443f-be92-632722181e04"
      },
      "execution_count": 3,
      "outputs": [
        {
          "output_type": "stream",
          "name": "stdout",
          "text": [
            "34\n",
            "My father, whom I used to call M. Seurel as did other pupils, was head of the Middle School and also of the Higher Elementary classes where pupils worked for the preliminary teacher's examination.\n"
          ]
        }
      ]
    },
    {
      "cell_type": "code",
      "source": [
        "from tokenizers import Tokenizer\n",
        "from tokenizers.models import WordLevel\n",
        "from tokenizers.trainers import WordLevelTrainer\n",
        "from tokenizers.pre_tokenizers import Whitespace\n",
        "\n",
        "def get_all_sentences(ds, lang):\n",
        "    for item in ds['translation']:\n",
        "        yield item[lang]\n",
        "\n",
        "tokenizer_en = Tokenizer(WordLevel(unk_token=\"[UNK]\"))\n",
        "tokenizer_en.pre_tokenizer = Whitespace()\n",
        "\n",
        "trainer_en = WordLevelTrainer(special_tokens=[\"[UNK]\", \"[PAD]\", \"[SOS]\", \"[EOS]\"])\n",
        "tokenizer_en.train_from_iterator(get_all_sentences(dataset, 'en'), trainer=trainer_en)\n",
        "\n",
        "tokenizer_fr = Tokenizer(WordLevel(unk_token=\"[UNK]\"))\n",
        "tokenizer_fr.pre_tokenizer = Whitespace()\n",
        "\n",
        "trainer_fr = WordLevelTrainer(special_tokens=[\"[UNK]\", \"[PAD]\", \"[SOS]\", \"[EOS]\"])\n",
        "tokenizer_fr.train_from_iterator(get_all_sentences(dataset, 'fr'), trainer=trainer_fr)\n"
      ],
      "metadata": {
        "id": "AeTx7h07xZ5-"
      },
      "execution_count": 4,
      "outputs": []
    },
    {
      "cell_type": "code",
      "source": [
        "def tokenize_data(dataset, tokenizer_en, tokenizer_fr):\n",
        "    tokenized_data_en = []\n",
        "    tokenized_data_fr = []\n",
        "    for example in dataset['translation']:\n",
        "        tokenized_data_en.append(tokenizer_en.encode(example['en']).ids)\n",
        "        tokenized_data_fr.append(tokenizer_fr.encode(example['fr']).ids)\n",
        "    return tokenized_data_en, tokenized_data_fr\n",
        "\n",
        "\n",
        "tokenized_data_en,  tokenized_data_fr = tokenize_data(dataset, tokenizer_en, tokenizer_fr)"
      ],
      "metadata": {
        "id": "qO742wUAxypx"
      },
      "execution_count": 5,
      "outputs": []
    },
    {
      "cell_type": "code",
      "source": [
        "print(tokenized_data_en[0])\n",
        "print(tokenized_data_en[9])\n",
        "print(tokenized_data_fr[9])\n",
        "print(len(tokenized_data_en[9]))\n",
        "print(len(tokenized_data_fr[9]))"
      ],
      "metadata": {
        "colab": {
          "base_uri": "https://localhost:8080/"
        },
        "id": "v_XkrYFtYlJ8",
        "outputId": "2a11675f-fe0e-4221-b388-36e1f0c8aa80"
      },
      "execution_count": 16,
      "outputs": [
        {
          "output_type": "stream",
          "name": "stdout",
          "text": [
            "[41, 42]\n",
            "[34, 58, 8, 86, 9, 82, 10, 52, 32, 5, 38, 48, 56, 73, 20, 8, 83, 62, 6, 4, 33, 14, 16, 45, 6, 4, 13, 12, 54, 85, 20, 87, 60, 4, 75, 79, 7, 21, 57, 5]\n",
            "[33, 76, 4, 18, 64, 8, 43, 31, 5, 40, 4, 52, 17, 45, 83, 4, 19, 58, 20, 16, 60, 6, 9, 12, 4, 72, 66, 8, 71, 75, 6, 49, 54, 8, 63, 4, 15, 6, 9, 34, 5]\n",
            "40\n",
            "41\n"
          ]
        }
      ]
    },
    {
      "cell_type": "markdown",
      "source": [
        "# Analysis"
      ],
      "metadata": {
        "id": "JnWzJHoTRXsi"
      }
    },
    {
      "cell_type": "code",
      "source": [
        "max_length_item = max(tokenized_data_en, key=len)\n",
        "print(len(max_length_item))\n",
        "print(max_length_item)"
      ],
      "metadata": {
        "colab": {
          "base_uri": "https://localhost:8080/"
        },
        "id": "G7zQmMfYyVnd",
        "outputId": "c7906e94-a82d-4ec6-cd10-ff1809395303"
      },
      "execution_count": null,
      "outputs": [
        {
          "output_type": "stream",
          "name": "stdout",
          "text": [
            "40\n",
            "[34, 58, 8, 86, 9, 82, 10, 52, 32, 5, 38, 48, 56, 73, 20, 8, 83, 62, 6, 4, 33, 14, 16, 45, 6, 4, 13, 12, 54, 85, 20, 87, 60, 4, 75, 79, 7, 21, 57, 5]\n"
          ]
        }
      ]
    },
    {
      "cell_type": "code",
      "source": [
        "decoded_output = tokenizer_en.decode(max_length_item)\n",
        "print(decoded_output)\n",
        "print(len(decoded_output))"
      ],
      "metadata": {
        "colab": {
          "base_uri": "https://localhost:8080/"
        },
        "id": "bhi0Ohc6y43s",
        "outputId": "449b2480-0b36-44b9-c8a9-f655991426ab"
      },
      "execution_count": null,
      "outputs": [
        {
          "output_type": "stream",
          "name": "stdout",
          "text": [
            "My father , whom I used to call M . Seurel as did other pupils , was head of the Middle School and also of the Higher Elementary classes where pupils worked for the preliminary teacher ' s examination .\n",
            "202\n"
          ]
        }
      ]
    },
    {
      "cell_type": "code",
      "source": [
        "output = tokenizer_en.encode(\"My father, whom I used to call M. Seurel as did other pupils, was head of the Middle School and also of the Higher Elementary classes where pupils worked for the preliminary teacher's examination.\")"
      ],
      "metadata": {
        "id": "Pvns--Jl0Yiv"
      },
      "execution_count": null,
      "outputs": []
    },
    {
      "cell_type": "code",
      "source": [
        "print(tokenizer_en.decode(output.ids))"
      ],
      "metadata": {
        "colab": {
          "base_uri": "https://localhost:8080/"
        },
        "id": "V-26vaaK0xzM",
        "outputId": "211bdeac-f455-4aa7-ec71-90d40822cf98"
      },
      "execution_count": null,
      "outputs": [
        {
          "output_type": "stream",
          "name": "stdout",
          "text": [
            "My father , whom I used to call M . Seurel as did other pupils , was head of the Middle School and also of the Higher Elementary classes where pupils worked for the preliminary teacher ' s examination .\n"
          ]
        }
      ]
    },
    {
      "cell_type": "code",
      "source": [
        "print(output.tokens)"
      ],
      "metadata": {
        "colab": {
          "base_uri": "https://localhost:8080/"
        },
        "id": "1kCklFvq0elK",
        "outputId": "ba207eba-1e4c-4e71-8583-5122bc424342"
      },
      "execution_count": null,
      "outputs": [
        {
          "output_type": "stream",
          "name": "stdout",
          "text": [
            "['My', 'father', ',', 'whom', 'I', 'used', 'to', 'call', 'M', '.', 'Seurel', 'as', 'did', 'other', 'pupils', ',', 'was', 'head', 'of', 'the', 'Middle', 'School', 'and', 'also', 'of', 'the', 'Higher', 'Elementary', 'classes', 'where', 'pupils', 'worked', 'for', 'the', 'preliminary', 'teacher', \"'\", 's', 'examination', '.']\n"
          ]
        }
      ]
    },
    {
      "cell_type": "code",
      "source": [
        "print(output.ids)"
      ],
      "metadata": {
        "colab": {
          "base_uri": "https://localhost:8080/"
        },
        "id": "Q4WTuGvg0hPw",
        "outputId": "b62c0edb-bee1-4d63-da82-6ee3380ced3e"
      },
      "execution_count": null,
      "outputs": [
        {
          "output_type": "stream",
          "name": "stdout",
          "text": [
            "[34, 58, 8, 86, 9, 82, 10, 52, 32, 5, 38, 48, 56, 73, 20, 8, 83, 62, 6, 4, 33, 14, 16, 45, 6, 4, 13, 12, 54, 85, 20, 87, 60, 4, 75, 79, 7, 21, 57, 5]\n"
          ]
        }
      ]
    },
    {
      "cell_type": "code",
      "source": [
        "print(len(output.ids))"
      ],
      "metadata": {
        "colab": {
          "base_uri": "https://localhost:8080/"
        },
        "id": "bvaiDlQy3WF-",
        "outputId": "471ccd1e-0b80-4110-8f9f-8f852a460eca"
      },
      "execution_count": null,
      "outputs": [
        {
          "output_type": "stream",
          "name": "stdout",
          "text": [
            "40\n"
          ]
        }
      ]
    },
    {
      "cell_type": "code",
      "source": [
        "output_wanderer = tokenizer_en.encode(\"The Wanderer\")"
      ],
      "metadata": {
        "id": "wadOzdHq95hR"
      },
      "execution_count": null,
      "outputs": []
    },
    {
      "cell_type": "code",
      "source": [
        "print(output_wanderer.tokens)"
      ],
      "metadata": {
        "colab": {
          "base_uri": "https://localhost:8080/"
        },
        "id": "a6o4ABU8-AsT",
        "outputId": "9df26eb0-6ea9-4e80-a522-cbc14a78cfcb"
      },
      "execution_count": null,
      "outputs": [
        {
          "output_type": "stream",
          "name": "stdout",
          "text": [
            "['The', 'Wanderer']\n"
          ]
        }
      ]
    },
    {
      "cell_type": "code",
      "source": [
        "print(output_wanderer.ids)"
      ],
      "metadata": {
        "colab": {
          "base_uri": "https://localhost:8080/"
        },
        "id": "PJJHCfIv-EWe",
        "outputId": "53c2b7dd-e1f3-45c1-8acc-66719732a414"
      },
      "execution_count": null,
      "outputs": [
        {
          "output_type": "stream",
          "name": "stdout",
          "text": [
            "[41, 42]\n"
          ]
        }
      ]
    },
    {
      "cell_type": "code",
      "source": [
        "print(output_wanderer)"
      ],
      "metadata": {
        "colab": {
          "base_uri": "https://localhost:8080/"
        },
        "id": "fg2YNRSf-b2t",
        "outputId": "81360533-3004-4b24-d630-aa1447b8b397"
      },
      "execution_count": null,
      "outputs": [
        {
          "output_type": "stream",
          "name": "stdout",
          "text": [
            "Encoding(num_tokens=2, attributes=[ids, type_ids, tokens, offsets, attention_mask, special_tokens_mask, overflowing])\n"
          ]
        }
      ]
    },
    {
      "cell_type": "markdown",
      "source": [
        "# Add SOS and EOS"
      ],
      "metadata": {
        "id": "j9tX2MPIT3Jm"
      }
    },
    {
      "cell_type": "code",
      "source": [
        "print(\"ID for [UNK]:\", tokenizer_en.token_to_id(\"[UNK]\"))\n",
        "print(\"ID for [PAD]:\", tokenizer_en.token_to_id(\"[PAD]\"))\n",
        "print(\"ID for [SOS]:\", tokenizer_en.token_to_id(\"[SOS]\"))\n",
        "print(\"ID for [EOS]:\", tokenizer_en.token_to_id(\"[EOS]\"))"
      ],
      "metadata": {
        "colab": {
          "base_uri": "https://localhost:8080/"
        },
        "id": "3yIF3HKbT_wC",
        "outputId": "0e6fe4fe-d2aa-4c32-d1b5-4fea4ba68772"
      },
      "execution_count": 11,
      "outputs": [
        {
          "output_type": "stream",
          "name": "stdout",
          "text": [
            "ID for [UNK]: 0\n",
            "ID for [PAD]: 1\n",
            "ID for [SOS]: 2\n",
            "ID for [EOS]: 3\n"
          ]
        }
      ]
    },
    {
      "cell_type": "code",
      "source": [
        "def add_special_tokens(tokenized_data, tokenizer):\n",
        "    SOS_token = tokenizer.token_to_id(\"[SOS]\")\n",
        "    EOS_token = tokenizer.token_to_id(\"[EOS]\")\n",
        "\n",
        "    # Add the SOS and EOS tokens to each sequence\n",
        "    return [[SOS_token] + seq + [EOS_token] for seq in tokenized_data]\n",
        "\n",
        "tokenized_data_en_with_special_tokens = add_special_tokens(tokenized_data_en, tokenizer_en)\n",
        "tokenized_data_fr_with_special_tokens = add_special_tokens(tokenized_data_fr, tokenizer_fr)\n"
      ],
      "metadata": {
        "id": "3DjcI00WT1IY"
      },
      "execution_count": 12,
      "outputs": []
    },
    {
      "cell_type": "code",
      "source": [
        "print(tokenized_data_en_with_special_tokens[0])\n",
        "print(tokenized_data_en_with_special_tokens[9])"
      ],
      "metadata": {
        "colab": {
          "base_uri": "https://localhost:8080/"
        },
        "id": "TD17ROfhUQoT",
        "outputId": "00160398-c7ff-4f8b-adbe-9be4fafcc381"
      },
      "execution_count": 17,
      "outputs": [
        {
          "output_type": "stream",
          "name": "stdout",
          "text": [
            "[2, 41, 42, 3]\n",
            "[2, 34, 58, 8, 86, 9, 82, 10, 52, 32, 5, 38, 48, 56, 73, 20, 8, 83, 62, 6, 4, 33, 14, 16, 45, 6, 4, 13, 12, 54, 85, 20, 87, 60, 4, 75, 79, 7, 21, 57, 5, 3]\n"
          ]
        }
      ]
    },
    {
      "cell_type": "markdown",
      "source": [
        "# Add Padding"
      ],
      "metadata": {
        "id": "GGyImBMVVWs8"
      }
    },
    {
      "cell_type": "code",
      "source": [
        "# Find the maximum sequence length after adding SOS and EOS tokens\n",
        "max_length_en = max(len(seq) for seq in tokenized_data_en_with_special_tokens)\n",
        "max_length_fr = max(len(seq) for seq in tokenized_data_fr_with_special_tokens)\n",
        "\n",
        "MAX_LENGTH = max(max_length_en, max_length_fr)\n",
        "print(MAX_LENGTH)\n"
      ],
      "metadata": {
        "colab": {
          "base_uri": "https://localhost:8080/"
        },
        "id": "uQ1yW6ybVZo2",
        "outputId": "ef0ab591-09c7-484a-ae2b-21fc6a12cb8a"
      },
      "execution_count": 18,
      "outputs": [
        {
          "output_type": "stream",
          "name": "stdout",
          "text": [
            "43\n"
          ]
        }
      ]
    },
    {
      "cell_type": "code",
      "source": [
        "def pad(sequence, max_length=MAX_LENGTH, pad_token_id=1):\n",
        "    if len(sequence) < max_length:\n",
        "        sequence += [pad_token_id] * (max_length - len(sequence))\n",
        "    return sequence\n",
        "\n",
        "# Apply padding/truncating to the tokenized data\n",
        "padded_data_en = [pad(seq) for seq in tokenized_data_en_with_special_tokens]\n",
        "padded_data_fr = [pad(seq) for seq in tokenized_data_fr_with_special_tokens]"
      ],
      "metadata": {
        "id": "_D88vspvVdPd"
      },
      "execution_count": 21,
      "outputs": []
    },
    {
      "cell_type": "code",
      "source": [
        "print(padded_data_en[0])\n",
        "print(padded_data_en[9])\n",
        "print(padded_data_fr[9])"
      ],
      "metadata": {
        "colab": {
          "base_uri": "https://localhost:8080/"
        },
        "id": "NIquUQZbV4Us",
        "outputId": "5f05c1ef-7af8-48fc-d80e-3cf407c18c90"
      },
      "execution_count": 23,
      "outputs": [
        {
          "output_type": "stream",
          "name": "stdout",
          "text": [
            "[2, 41, 42, 3, 1, 1, 1, 1, 1, 1, 1, 1, 1, 1, 1, 1, 1, 1, 1, 1, 1, 1, 1, 1, 1, 1, 1, 1, 1, 1, 1, 1, 1, 1, 1, 1, 1, 1, 1, 1, 1, 1, 1]\n",
            "[2, 34, 58, 8, 86, 9, 82, 10, 52, 32, 5, 38, 48, 56, 73, 20, 8, 83, 62, 6, 4, 33, 14, 16, 45, 6, 4, 13, 12, 54, 85, 20, 87, 60, 4, 75, 79, 7, 21, 57, 5, 3, 1]\n",
            "[2, 33, 76, 4, 18, 64, 8, 43, 31, 5, 40, 4, 52, 17, 45, 83, 4, 19, 58, 20, 16, 60, 6, 9, 12, 4, 72, 66, 8, 71, 75, 6, 49, 54, 8, 63, 4, 15, 6, 9, 34, 5, 3]\n"
          ]
        }
      ]
    },
    {
      "cell_type": "markdown",
      "source": [
        "# Attention Masks\n",
        "\n",
        "\n"
      ],
      "metadata": {
        "id": "WAWkTEMwcRK-"
      }
    },
    {
      "cell_type": "code",
      "source": [
        "def create_attention_masks(padded_data):\n",
        "    return [[1 if token != 1 else 0 for token in sequence] for sequence in padded_data]\n",
        "\n",
        "attention_masks_en = create_attention_masks(padded_data_en)\n",
        "attention_masks_fr = create_attention_masks(padded_data_fr)\n"
      ],
      "metadata": {
        "id": "PJqFSIb_cO_V"
      },
      "execution_count": 24,
      "outputs": []
    },
    {
      "cell_type": "code",
      "source": [
        "print(attention_masks_en[0])\n",
        "print(attention_masks_en[9])\n",
        "print(attention_masks_fr[9])"
      ],
      "metadata": {
        "colab": {
          "base_uri": "https://localhost:8080/"
        },
        "id": "hu6KBRFPcW5d",
        "outputId": "58cd2348-4b7b-4562-f2c9-d2f1769c2dbc"
      },
      "execution_count": 27,
      "outputs": [
        {
          "output_type": "stream",
          "name": "stdout",
          "text": [
            "[1, 1, 1, 1, 0, 0, 0, 0, 0, 0, 0, 0, 0, 0, 0, 0, 0, 0, 0, 0, 0, 0, 0, 0, 0, 0, 0, 0, 0, 0, 0, 0, 0, 0, 0, 0, 0, 0, 0, 0, 0, 0, 0]\n",
            "[1, 1, 1, 1, 1, 1, 1, 1, 1, 1, 1, 1, 1, 1, 1, 1, 1, 1, 1, 1, 1, 1, 1, 1, 1, 1, 1, 1, 1, 1, 1, 1, 1, 1, 1, 1, 1, 1, 1, 1, 1, 1, 0]\n",
            "[1, 1, 1, 1, 1, 1, 1, 1, 1, 1, 1, 1, 1, 1, 1, 1, 1, 1, 1, 1, 1, 1, 1, 1, 1, 1, 1, 1, 1, 1, 1, 1, 1, 1, 1, 1, 1, 1, 1, 1, 1, 1, 1]\n"
          ]
        }
      ]
    },
    {
      "cell_type": "markdown",
      "source": [
        "# Target Masks"
      ],
      "metadata": {
        "id": "SjjpUioVc7y2"
      }
    },
    {
      "cell_type": "code",
      "source": [
        "import torch\n",
        "\n",
        "def create_target_mask_torch(sequence):\n",
        "    # Convert sequence to tensor\n",
        "    sequence_tensor = torch.tensor(sequence)\n",
        "\n",
        "    # Create an upper triangular matrix of size len(sequence) x len(sequence)\n",
        "    look_ahead_mask = torch.triu(torch.ones((len(sequence), len(sequence))), diagonal=1)\n",
        "\n",
        "    # Create a padding mask (1 for padding tokens, 0 otherwise)\n",
        "    padding_mask = (sequence_tensor == 1).unsqueeze(-1).float()\n",
        "\n",
        "    # Combine the two masks\n",
        "    combined_mask = torch.maximum(look_ahead_mask, padding_mask)\n",
        "\n",
        "    return combined_mask\n",
        "\n",
        "target_masks_fr_torch = [create_target_mask_torch(sequence) for sequence in padded_data_fr]\n",
        "\n"
      ],
      "metadata": {
        "id": "jl2D94r8dEDV"
      },
      "execution_count": 34,
      "outputs": []
    },
    {
      "cell_type": "code",
      "source": [
        "print(padded_data_fr[0])\n",
        "print(padded_data_fr[7])\n",
        "print(padded_data_fr[9])"
      ],
      "metadata": {
        "colab": {
          "base_uri": "https://localhost:8080/"
        },
        "id": "MDA7lmQ8g74U",
        "outputId": "21c0d545-b2ec-49d9-c33c-95f823639b6f"
      },
      "execution_count": 42,
      "outputs": [
        {
          "output_type": "stream",
          "name": "stdout",
          "text": [
            "[2, 30, 61, 32, 3, 1, 1, 1, 1, 1, 1, 1, 1, 1, 1, 1, 1, 1, 1, 1, 1, 1, 1, 1, 1, 1, 1, 1, 1, 1, 1, 1, 1, 1, 1, 1, 1, 1, 1, 1, 1, 1, 1]\n",
            "[2, 11, 46, 78, 6, 73, 55, 48, 77, 41, 15, 7, 68, 8, 19, 79, 51, 65, 5, 3, 1, 1, 1, 1, 1, 1, 1, 1, 1, 1, 1, 1, 1, 1, 1, 1, 1, 1, 1, 1, 1, 1, 1]\n",
            "[2, 33, 76, 4, 18, 64, 8, 43, 31, 5, 40, 4, 52, 17, 45, 83, 4, 19, 58, 20, 16, 60, 6, 9, 12, 4, 72, 66, 8, 71, 75, 6, 49, 54, 8, 63, 4, 15, 6, 9, 34, 5, 3]\n"
          ]
        }
      ]
    },
    {
      "cell_type": "code",
      "source": [
        "import matplotlib.pyplot as plt\n",
        "\n",
        "fig, (ax1, ax2, ax3) = plt.subplots(1, 3, figsize=(12, 5))\n",
        "\n",
        "cax1 = ax1.matshow(target_masks_fr_torch[0], cmap='viridis')\n",
        "fig.colorbar(cax1, ax=ax1)\n",
        "ax1.set_title(\"Heatmap 1\")\n",
        "\n",
        "cax2 = ax2.matshow(target_masks_fr_torch[7], cmap='viridis')\n",
        "fig.colorbar(cax2, ax=ax2)\n",
        "ax2.set_title(\"Heatmap 2\")\n",
        "\n",
        "cax3 = ax3.matshow(target_masks_fr_torch[9], cmap='viridis')\n",
        "fig.colorbar(cax3, ax=ax3)\n",
        "ax2.set_title(\"Heatmap 3\")\n",
        "\n",
        "plt.tight_layout()\n",
        "plt.show()\n",
        "\n",
        "\n"
      ],
      "metadata": {
        "colab": {
          "base_uri": "https://localhost:8080/",
          "height": 507
        },
        "id": "4xUnQLhMfDyf",
        "outputId": "373362c4-5d40-40b2-de50-eefa6d3ceaed"
      },
      "execution_count": 41,
      "outputs": [
        {
          "output_type": "display_data",
          "data": {
            "text/plain": [
              "<Figure size 1200x500 with 6 Axes>"
            ],
            "image/png": "[encoded data removed]"
          },
          "metadata": {}
        }
      ]
    },
    {
      "cell_type": "markdown",
      "source": [
        "# Tidied up code (RAM memory issues)"
      ],
      "metadata": {
        "id": "7G8dbosbUHB0"
      }
    },
    {
      "cell_type": "code",
      "source": [
        "!pip install datasets tokenizers"
      ],
      "metadata": {
        "colab": {
          "base_uri": "https://localhost:8080/"
        },
        "id": "_CwRef1tUM1w",
        "outputId": "a0b6e8a9-ba50-42db-cc75-2efbf1b02a57"
      },
      "execution_count": 1,
      "outputs": [
        {
          "output_type": "stream",
          "name": "stdout",
          "text": [
            "Requirement already satisfied: datasets in /usr/local/lib/python3.10/dist-packages (2.14.5)\n",
            "Requirement already satisfied: tokenizers in /usr/local/lib/python3.10/dist-packages (0.13.3)\n",
            "Requirement already satisfied: numpy>=1.17 in /usr/local/lib/python3.10/dist-packages (from datasets) (1.23.5)\n",
            "Requirement already satisfied: pyarrow>=8.0.0 in /usr/local/lib/python3.10/dist-packages (from datasets) (9.0.0)\n",
            "Requirement already satisfied: dill<0.3.8,>=0.3.0 in /usr/local/lib/python3.10/dist-packages (from datasets) (0.3.7)\n",
            "Requirement already satisfied: pandas in /usr/local/lib/python3.10/dist-packages (from datasets) (1.5.3)\n",
            "Requirement already satisfied: requests>=2.19.0 in /usr/local/lib/python3.10/dist-packages (from datasets) (2.31.0)\n",
            "Requirement already satisfied: tqdm>=4.62.1 in /usr/local/lib/python3.10/dist-packages (from datasets) (4.66.1)\n",
            "Requirement already satisfied: xxhash in /usr/local/lib/python3.10/dist-packages (from datasets) (3.3.0)\n",
            "Requirement already satisfied: multiprocess in /usr/local/lib/python3.10/dist-packages (from datasets) (0.70.15)\n",
            "Requirement already satisfied: fsspec[http]<2023.9.0,>=2023.1.0 in /usr/local/lib/python3.10/dist-packages (from datasets) (2023.6.0)\n",
            "Requirement already satisfied: aiohttp in /usr/local/lib/python3.10/dist-packages (from datasets) (3.8.5)\n",
            "Requirement already satisfied: huggingface-hub<1.0.0,>=0.14.0 in /usr/local/lib/python3.10/dist-packages (from datasets) (0.16.4)\n",
            "Requirement already satisfied: packaging in /usr/local/lib/python3.10/dist-packages (from datasets) (23.1)\n",
            "Requirement already satisfied: pyyaml>=5.1 in /usr/local/lib/python3.10/dist-packages (from datasets) (6.0.1)\n",
            "Requirement already satisfied: attrs>=17.3.0 in /usr/local/lib/python3.10/dist-packages (from aiohttp->datasets) (23.1.0)\n",
            "Requirement already satisfied: charset-normalizer<4.0,>=2.0 in /usr/local/lib/python3.10/dist-packages (from aiohttp->datasets) (3.2.0)\n",
            "Requirement already satisfied: multidict<7.0,>=4.5 in /usr/local/lib/python3.10/dist-packages (from aiohttp->datasets) (6.0.4)\n",
            "Requirement already satisfied: async-timeout<5.0,>=4.0.0a3 in /usr/local/lib/python3.10/dist-packages (from aiohttp->datasets) (4.0.3)\n",
            "Requirement already satisfied: yarl<2.0,>=1.0 in /usr/local/lib/python3.10/dist-packages (from aiohttp->datasets) (1.9.2)\n",
            "Requirement already satisfied: frozenlist>=1.1.1 in /usr/local/lib/python3.10/dist-packages (from aiohttp->datasets) (1.4.0)\n",
            "Requirement already satisfied: aiosignal>=1.1.2 in /usr/local/lib/python3.10/dist-packages (from aiohttp->datasets) (1.3.1)\n",
            "Requirement already satisfied: filelock in /usr/local/lib/python3.10/dist-packages (from huggingface-hub<1.0.0,>=0.14.0->datasets) (3.12.2)\n",
            "Requirement already satisfied: typing-extensions>=3.7.4.3 in /usr/local/lib/python3.10/dist-packages (from huggingface-hub<1.0.0,>=0.14.0->datasets) (4.7.1)\n",
            "Requirement already satisfied: idna<4,>=2.5 in /usr/local/lib/python3.10/dist-packages (from requests>=2.19.0->datasets) (3.4)\n",
            "Requirement already satisfied: urllib3<3,>=1.21.1 in /usr/local/lib/python3.10/dist-packages (from requests>=2.19.0->datasets) (2.0.4)\n",
            "Requirement already satisfied: certifi>=2017.4.17 in /usr/local/lib/python3.10/dist-packages (from requests>=2.19.0->datasets) (2023.7.22)\n",
            "Requirement already satisfied: python-dateutil>=2.8.1 in /usr/local/lib/python3.10/dist-packages (from pandas->datasets) (2.8.2)\n",
            "Requirement already satisfied: pytz>=2020.1 in /usr/local/lib/python3.10/dist-packages (from pandas->datasets) (2023.3)\n",
            "Requirement already satisfied: six>=1.5 in /usr/local/lib/python3.10/dist-packages (from python-dateutil>=2.8.1->pandas->datasets) (1.16.0)\n"
          ]
        }
      ]
    },
    {
      "cell_type": "code",
      "source": [
        "from datasets import load_dataset\n",
        "\n",
        "dataset = load_dataset(\"opus_books\", \"en-fr\", split=\"train[:30%]\")"
      ],
      "metadata": {
        "id": "1uiAfPEfUjrJ"
      },
      "execution_count": 1,
      "outputs": []
    },
    {
      "cell_type": "code",
      "source": [
        "dataset"
      ],
      "metadata": {
        "colab": {
          "base_uri": "https://localhost:8080/"
        },
        "id": "qPT8mLAruOqs",
        "outputId": "ea5607a0-8212-41d1-9b1f-beb73f65b77a"
      },
      "execution_count": 4,
      "outputs": [
        {
          "output_type": "execute_result",
          "data": {
            "text/plain": [
              "Dataset({\n",
              "    features: ['id', 'translation'],\n",
              "    num_rows: 12708\n",
              "})"
            ]
          },
          "metadata": {},
          "execution_count": 4
        }
      ]
    },
    {
      "cell_type": "code",
      "source": [
        "subset = dataset['train'].select(list(range(20)))"
      ],
      "metadata": {
        "id": "tX31hAEobMzV"
      },
      "execution_count": 3,
      "outputs": []
    },
    {
      "cell_type": "code",
      "source": [
        "import random\n",
        "\n",
        "# Split ratios\n",
        "train_ratio = 0.8\n",
        "val_ratio = 0.1\n",
        "\n",
        "# # Shuffle the indices\n",
        "# indices = list(range(len(dataset['train'])))\n",
        "# random.seed(42)\n",
        "# random.shuffle(indices)\n",
        "\n",
        "# # Calculate split sizes\n",
        "# train_size = int(train_ratio * len(dataset['train']))\n",
        "# val_size = int(val_ratio * len(dataset['train']))\n",
        "\n",
        "# # Split the indices\n",
        "# train_indices = indices[:train_size]\n",
        "# val_indices = indices[train_size:train_size+val_size]\n",
        "# test_indices = indices[train_size+val_size:]\n",
        "\n",
        "# # Extract subsets based on indices\n",
        "# train_dataset = dataset['train'].select(train_indices)\n",
        "# val_dataset = dataset['train'].select(val_indices)\n",
        "# test_dataset = dataset['train'].select(test_indices)\n",
        "\n",
        "# Shuffle the indices\n",
        "indices = list(range(len(dataset)))\n",
        "random.seed(42)\n",
        "random.shuffle(indices)\n",
        "\n",
        "# Calculate split sizes\n",
        "train_size = int(train_ratio * len(dataset))\n",
        "val_size = int(val_ratio * len(dataset))\n",
        "\n",
        "# Split the indices\n",
        "train_indices = indices[:train_size]\n",
        "val_indices = indices[train_size:train_size+val_size]\n",
        "test_indices = indices[train_size+val_size:]\n",
        "\n",
        "# Extract subsets based on indices\n",
        "train_dataset = dataset.select(train_indices)\n",
        "val_dataset = dataset.select(val_indices)\n",
        "test_dataset = dataset.select(test_indices)\n",
        "\n",
        "# # Shuffle the indices\n",
        "# indices = list(range(len(subset)))\n",
        "# random.seed(42)\n",
        "# random.shuffle(indices)\n",
        "\n",
        "# # Calculate split sizes\n",
        "# train_size = int(train_ratio * len(subset))\n",
        "# val_size = int(val_ratio * len(subset))\n",
        "\n",
        "# # Split the indices\n",
        "# train_indices = indices[:train_size]\n",
        "# val_indices = indices[train_size:train_size+val_size]\n",
        "# test_indices = indices[train_size+val_size:]\n",
        "\n",
        "# # Extract subsets based on indices\n",
        "# train_dataset = subset.select(train_indices)\n",
        "# val_dataset = subset.select(val_indices)\n",
        "# test_dataset = subset.select(test_indices)\n"
      ],
      "metadata": {
        "id": "eXpkXUaAUqTu"
      },
      "execution_count": 2,
      "outputs": []
    },
    {
      "cell_type": "code",
      "source": [
        "print(len(dataset))\n",
        "print(len(train_dataset))\n",
        "print(len(val_dataset))\n",
        "print(len(test_dataset))"
      ],
      "metadata": {
        "colab": {
          "base_uri": "https://localhost:8080/"
        },
        "id": "vkufe_5iXIpK",
        "outputId": "a72035c8-f854-4fe2-9e91-b3004df25aea"
      },
      "execution_count": 3,
      "outputs": [
        {
          "output_type": "stream",
          "name": "stdout",
          "text": [
            "38126\n",
            "30500\n",
            "3812\n",
            "3814\n"
          ]
        }
      ]
    },
    {
      "cell_type": "code",
      "source": [
        "from tokenizers import Tokenizer\n",
        "from tokenizers.models import WordLevel\n",
        "from tokenizers.trainers import WordLevelTrainer\n",
        "from tokenizers.pre_tokenizers import Whitespace\n",
        "\n",
        "SPECIAL_TOKENS = [\"[UNK]\", \"[PAD]\", \"[SOS]\", \"[EOS]\"]\n",
        "UNK_TOKEN = \"[UNK]\"\n",
        "\n",
        "def train_tokenizer(dataset, language):\n",
        "    def get_all_sentences(ds, lang):\n",
        "        return (item['translation'][lang] for item in ds)\n",
        "\n",
        "    tokenizer = Tokenizer(WordLevel(unk_token=UNK_TOKEN))\n",
        "    tokenizer.pre_tokenizer = Whitespace()\n",
        "\n",
        "    trainer = WordLevelTrainer(special_tokens=SPECIAL_TOKENS)\n",
        "    tokenizer.train_from_iterator(get_all_sentences(dataset, language), trainer=trainer)\n",
        "\n",
        "    return tokenizer\n",
        "\n",
        "tokenizer_en = train_tokenizer(train_dataset, 'en')\n",
        "tokenizer_fr = train_tokenizer(train_dataset, 'fr')\n"
      ],
      "metadata": {
        "id": "uaXLHyCqW9vt"
      },
      "execution_count": 4,
      "outputs": []
    },
    {
      "cell_type": "code",
      "source": [
        "import torch\n",
        "\n",
        "def preprocess_data(dataset, tokenizer_en, tokenizer_fr):\n",
        "\n",
        "    # Tokenize data\n",
        "    def tokenize_data(dataset):\n",
        "        tokenized_data_en = []\n",
        "        tokenized_data_fr = []\n",
        "        for example in dataset['translation']:\n",
        "            tokenized_data_en.append(tokenizer_en.encode(example['en']).ids)\n",
        "            tokenized_data_fr.append(tokenizer_fr.encode(example['fr']).ids)\n",
        "        return tokenized_data_en, tokenized_data_fr\n",
        "\n",
        "    tokenized_data_en, tokenized_data_fr = tokenize_data(dataset)\n",
        "\n",
        "    # Add special tokens\n",
        "    def add_special_tokens(tokenized_data, tokenizer):\n",
        "        SOS_token = tokenizer.token_to_id(\"[SOS]\")\n",
        "        EOS_token = tokenizer.token_to_id(\"[EOS]\")\n",
        "        return [[SOS_token] + seq + [EOS_token] for seq in tokenized_data]\n",
        "\n",
        "    tokenized_data_en_with_special_tokens = add_special_tokens(tokenized_data_en, tokenizer_en)\n",
        "    tokenized_data_fr_with_special_tokens = add_special_tokens(tokenized_data_fr, tokenizer_fr)\n",
        "\n",
        "    # Get max lengths\n",
        "    MAX_LENGTH_EN = max(len(seq) for seq in tokenized_data_en_with_special_tokens)\n",
        "    MAX_LENGTH_FR = max(len(seq) for seq in tokenized_data_fr_with_special_tokens)\n",
        "\n",
        "    # Pad sequences\n",
        "    def pad(sequence, max_length, pad_token_id=1):\n",
        "        if len(sequence) < max_length:\n",
        "            sequence += [pad_token_id] * (max_length - len(sequence))\n",
        "        return sequence\n",
        "\n",
        "    padded_data_en = [pad(seq, MAX_LENGTH_EN) for seq in tokenized_data_en_with_special_tokens]\n",
        "    padded_data_fr = [pad(seq, MAX_LENGTH_FR) for seq in tokenized_data_fr_with_special_tokens]\n",
        "\n",
        "    # Create attention masks\n",
        "    def create_attention_masks(padded_data):\n",
        "        return [[1 if token != 1 else 0 for token in sequence] for sequence in padded_data]\n",
        "\n",
        "    attention_masks_en = create_attention_masks(padded_data_en)\n",
        "    attention_masks_fr = create_attention_masks(padded_data_fr)\n",
        "\n",
        "    # Create target mask for decoder\n",
        "    def create_target_mask_torch(sequence):\n",
        "        sequence_tensor = torch.tensor(sequence)\n",
        "        look_ahead_mask = torch.triu(torch.ones((len(sequence), len(sequence))), diagonal=1)\n",
        "        padding_mask = (sequence_tensor == 1).unsqueeze(-1).float()\n",
        "        combined_mask = torch.maximum(look_ahead_mask, padding_mask)\n",
        "        return combined_mask\n",
        "\n",
        "    target_masks_fr_torch = [create_target_mask_torch(sequence) for sequence in padded_data_fr]\n",
        "\n",
        "    return padded_data_en, padded_data_fr, attention_masks_en, attention_masks_fr, target_masks_fr_torch\n",
        "\n",
        "train_data_en, train_data_fr, train_masks_en, train_masks_fr, train_target_masks_fr = preprocess_data(train_dataset, tokenizer_en, tokenizer_fr)\n",
        "val_data_en, val_data_fr, val_masks_en, val_masks_fr, val_target_masks_fr = preprocess_data(val_dataset, tokenizer_en, tokenizer_fr)\n",
        "test_data_en, test_data_fr, test_masks_en, test_masks_fr, test_target_masks_fr = preprocess_data(test_dataset, tokenizer_en, tokenizer_fr)\n"
      ],
      "metadata": {
        "id": "No2nZb03VgK-"
      },
      "execution_count": null,
      "outputs": []
    },
    {
      "cell_type": "code",
      "source": [
        "print(train_data_en[1])\n",
        "print(train_masks_en[1])\n",
        "print(train_data_fr[1])\n",
        "print(train_masks_fr[1])\n",
        "print(train_target_masks_fr[1])"
      ],
      "metadata": {
        "colab": {
          "base_uri": "https://localhost:8080/"
        },
        "id": "JAy7KffrcuPK",
        "outputId": "a88886a9-d0af-4de2-9374-d1536c4109a4"
      },
      "execution_count": 10,
      "outputs": [
        {
          "output_type": "stream",
          "name": "stdout",
          "text": [
            "[2, 48, 6, 603, 7, 26, 249, 105, 137, 272, 648, 73, 33, 3798, 1822, 45, 23, 5692, 110, 14, 5, 1077, 1219, 13, 282, 4, 1925, 158, 41, 5, 455, 9, 5358, 14, 16, 13237, 4, 78, 20, 50, 11712, 31, 5, 2312, 8374, 4, 5880, 8, 5, 2008, 9, 16, 322, 2139, 4, 2450, 27, 3207, 5408, 6, 3, 1, 1, 1, 1, 1, 1, 1, 1, 1, 1, 1, 1, 1, 1, 1, 1, 1, 1, 1, 1, 1, 1, 1, 1, 1, 1, 1, 1, 1, 1, 1, 1, 1, 1, 1, 1, 1, 1, 1, 1, 1, 1, 1, 1, 1, 1, 1, 1, 1, 1, 1, 1, 1, 1, 1, 1, 1, 1, 1, 1, 1, 1, 1, 1, 1, 1, 1, 1, 1, 1, 1, 1, 1, 1, 1, 1, 1, 1, 1, 1, 1, 1, 1, 1, 1, 1, 1, 1, 1, 1, 1, 1, 1, 1, 1, 1, 1, 1, 1, 1, 1, 1, 1, 1, 1, 1, 1, 1, 1, 1, 1, 1, 1, 1, 1, 1, 1, 1, 1, 1, 1, 1, 1, 1, 1, 1, 1, 1, 1, 1, 1, 1, 1, 1, 1, 1, 1, 1, 1, 1, 1, 1, 1, 1, 1, 1, 1, 1, 1, 1, 1, 1, 1, 1, 1, 1, 1, 1, 1, 1, 1, 1, 1, 1, 1, 1, 1, 1, 1, 1, 1, 1, 1, 1, 1, 1, 1, 1, 1, 1, 1, 1, 1]\n",
            "[1, 1, 1, 1, 1, 1, 1, 1, 1, 1, 1, 1, 1, 1, 1, 1, 1, 1, 1, 1, 1, 1, 1, 1, 1, 1, 1, 1, 1, 1, 1, 1, 1, 1, 1, 1, 1, 1, 1, 1, 1, 1, 1, 1, 1, 1, 1, 1, 1, 1, 1, 1, 1, 1, 1, 1, 1, 1, 1, 1, 1, 0, 0, 0, 0, 0, 0, 0, 0, 0, 0, 0, 0, 0, 0, 0, 0, 0, 0, 0, 0, 0, 0, 0, 0, 0, 0, 0, 0, 0, 0, 0, 0, 0, 0, 0, 0, 0, 0, 0, 0, 0, 0, 0, 0, 0, 0, 0, 0, 0, 0, 0, 0, 0, 0, 0, 0, 0, 0, 0, 0, 0, 0, 0, 0, 0, 0, 0, 0, 0, 0, 0, 0, 0, 0, 0, 0, 0, 0, 0, 0, 0, 0, 0, 0, 0, 0, 0, 0, 0, 0, 0, 0, 0, 0, 0, 0, 0, 0, 0, 0, 0, 0, 0, 0, 0, 0, 0, 0, 0, 0, 0, 0, 0, 0, 0, 0, 0, 0, 0, 0, 0, 0, 0, 0, 0, 0, 0, 0, 0, 0, 0, 0, 0, 0, 0, 0, 0, 0, 0, 0, 0, 0, 0, 0, 0, 0, 0, 0, 0, 0, 0, 0, 0, 0, 0, 0, 0, 0, 0, 0, 0, 0, 0, 0, 0, 0, 0, 0, 0, 0, 0, 0, 0, 0, 0, 0, 0, 0, 0, 0, 0, 0, 0]\n",
            "[2, 88, 5, 608, 8, 44, 248, 33, 9, 6706, 46, 6, 596, 4, 138, 7760, 41, 1505, 16, 2018, 6, 15, 9, 6382, 4, 15, 9, 6792, 148, 6, 917, 34, 326, 5, 1848, 32, 10, 14938, 41, 90, 7353, 59, 9133, 6, 2538, 4, 8, 4, 27, 5357, 29, 23, 1451, 6, 44, 357, 260, 4, 25, 7209, 23, 5172, 50, 46, 6, 13336, 5, 3, 1, 1, 1, 1, 1, 1, 1, 1, 1, 1, 1, 1, 1, 1, 1, 1, 1, 1, 1, 1, 1, 1, 1, 1, 1, 1, 1, 1, 1, 1, 1, 1, 1, 1, 1, 1, 1, 1, 1, 1, 1, 1, 1, 1, 1, 1, 1, 1, 1, 1, 1, 1, 1, 1, 1, 1, 1, 1, 1, 1, 1, 1, 1, 1, 1, 1, 1, 1, 1, 1, 1, 1, 1, 1, 1, 1, 1, 1, 1, 1, 1, 1, 1, 1, 1, 1, 1, 1, 1, 1, 1, 1, 1, 1, 1, 1, 1, 1, 1, 1, 1, 1, 1, 1, 1, 1, 1, 1, 1, 1, 1, 1, 1, 1, 1, 1, 1, 1, 1, 1, 1, 1, 1, 1, 1, 1, 1, 1]\n",
            "[1, 1, 1, 1, 1, 1, 1, 1, 1, 1, 1, 1, 1, 1, 1, 1, 1, 1, 1, 1, 1, 1, 1, 1, 1, 1, 1, 1, 1, 1, 1, 1, 1, 1, 1, 1, 1, 1, 1, 1, 1, 1, 1, 1, 1, 1, 1, 1, 1, 1, 1, 1, 1, 1, 1, 1, 1, 1, 1, 1, 1, 1, 1, 1, 1, 1, 1, 1, 0, 0, 0, 0, 0, 0, 0, 0, 0, 0, 0, 0, 0, 0, 0, 0, 0, 0, 0, 0, 0, 0, 0, 0, 0, 0, 0, 0, 0, 0, 0, 0, 0, 0, 0, 0, 0, 0, 0, 0, 0, 0, 0, 0, 0, 0, 0, 0, 0, 0, 0, 0, 0, 0, 0, 0, 0, 0, 0, 0, 0, 0, 0, 0, 0, 0, 0, 0, 0, 0, 0, 0, 0, 0, 0, 0, 0, 0, 0, 0, 0, 0, 0, 0, 0, 0, 0, 0, 0, 0, 0, 0, 0, 0, 0, 0, 0, 0, 0, 0, 0, 0, 0, 0, 0, 0, 0, 0, 0, 0, 0, 0, 0, 0, 0, 0, 0, 0, 0, 0, 0, 0, 0, 0, 0, 0, 0, 0]\n",
            "tensor([[0., 1., 1.,  ..., 1., 1., 1.],\n",
            "        [0., 0., 1.,  ..., 1., 1., 1.],\n",
            "        [0., 0., 0.,  ..., 1., 1., 1.],\n",
            "        ...,\n",
            "        [1., 1., 1.,  ..., 1., 1., 1.],\n",
            "        [1., 1., 1.,  ..., 1., 1., 1.],\n",
            "        [1., 1., 1.,  ..., 1., 1., 1.]])\n"
          ]
        }
      ]
    },
    {
      "cell_type": "code",
      "source": [
        "import torch\n",
        "import gc\n",
        "\n",
        "def preprocess_data(dataset, tokenizer_en, tokenizer_fr, batch_size=1000):\n",
        "\n",
        "    # Tokenize data\n",
        "    def tokenize_data(dataset):\n",
        "        tokenized_data_en = []\n",
        "        tokenized_data_fr = []\n",
        "        for example in dataset['translation']:\n",
        "            tokenized_data_en.append(tokenizer_en.encode(example['en']).ids)\n",
        "            tokenized_data_fr.append(tokenizer_fr.encode(example['fr']).ids)\n",
        "        return tokenized_data_en, tokenized_data_fr\n",
        "\n",
        "    # Add special tokens\n",
        "    def add_special_tokens(tokenized_data, tokenizer):\n",
        "        SOS_token = tokenizer.token_to_id(\"[SOS]\")\n",
        "        EOS_token = tokenizer.token_to_id(\"[EOS]\")\n",
        "        return [[SOS_token] + seq + [EOS_token] for seq in tokenized_data]\n",
        "\n",
        "    # Pad sequences\n",
        "    def pad(sequence, max_length, pad_token_id=1):\n",
        "        if len(sequence) < max_length:\n",
        "            sequence += [pad_token_id] * (max_length - len(sequence))\n",
        "        return sequence\n",
        "\n",
        "    # Create attention masks\n",
        "    def create_attention_masks(padded_data):\n",
        "        return [[1 if token != 1 else 0 for token in sequence] for sequence in padded_data]\n",
        "\n",
        "    # Create target mask for decoder\n",
        "    def create_target_mask_torch(sequence):\n",
        "        sequence_tensor = torch.tensor(sequence)\n",
        "        look_ahead_mask = torch.triu(torch.ones((len(sequence), len(sequence))), diagonal=1)\n",
        "        padding_mask = (sequence_tensor == 1).unsqueeze(-1).float()\n",
        "        combined_mask = torch.maximum(look_ahead_mask, padding_mask)\n",
        "        return combined_mask\n",
        "\n",
        "    total_data_len = len(dataset)\n",
        "    all_padded_en, all_padded_fr, all_masks_en, all_masks_fr, all_target_masks_fr = [], [], [], [], []\n",
        "\n",
        "    for start_idx in range(0, total_data_len, batch_size):\n",
        "        end_idx = min(start_idx + batch_size, total_data_len)\n",
        "        batch = dataset.select(list(range(start_idx, end_idx)))\n",
        "\n",
        "        # Your existing preprocessing code...\n",
        "        tokenized_data_en, tokenized_data_fr = tokenize_data(dataset)\n",
        "        tokenized_data_en_with_special_tokens = add_special_tokens(tokenized_data_en, tokenizer_en)\n",
        "        tokenized_data_fr_with_special_tokens = add_special_tokens(tokenized_data_fr, tokenizer_fr)\n",
        "        MAX_LENGTH_EN = max(len(seq) for seq in tokenized_data_en_with_special_tokens)\n",
        "        MAX_LENGTH_FR = max(len(seq) for seq in tokenized_data_fr_with_special_tokens)\n",
        "        padded_data_en = [pad(seq, MAX_LENGTH_EN) for seq in tokenized_data_en_with_special_tokens]\n",
        "        padded_data_fr = [pad(seq, MAX_LENGTH_FR) for seq in tokenized_data_fr_with_special_tokens]\n",
        "        attention_masks_en = create_attention_masks(padded_data_en)\n",
        "        attention_masks_fr = create_attention_masks(padded_data_fr)\n",
        "        target_masks_fr_torch = [create_target_mask_torch(sequence) for sequence in padded_data_fr]\n",
        "\n",
        "        all_padded_en.extend(padded_data_en)\n",
        "        all_padded_fr.extend(padded_data_fr)\n",
        "        all_masks_en.extend(attention_masks_en)\n",
        "        all_masks_fr.extend(attention_masks_fr)\n",
        "        all_target_masks_fr.extend(target_masks_fr_torch)\n",
        "\n",
        "        # Clean up temporary lists to free up memory\n",
        "        del padded_data_en, padded_data_fr, attention_masks_en, attention_masks_fr, target_masks_fr_torch\n",
        "        gc.collect()\n",
        "\n",
        "    return all_padded_en, all_padded_fr, all_masks_en, all_masks_fr, all_target_masks_fr\n"
      ],
      "metadata": {
        "id": "nYyLFiZ2ejxv"
      },
      "execution_count": null,
      "outputs": []
    },
    {
      "cell_type": "markdown",
      "source": [
        "# Refactored Code"
      ],
      "metadata": {
        "id": "JW12m4rg6dsr"
      }
    },
    {
      "cell_type": "code",
      "source": [
        "from datasets import load_dataset\n",
        "\n",
        "dataset = load_dataset(\"opus_books\", \"en-fr\", split=\"train[:1%]\")"
      ],
      "metadata": {
        "id": "7Fkr_W4REpUD"
      },
      "execution_count": 2,
      "outputs": []
    },
    {
      "cell_type": "code",
      "source": [
        "from tokenizers import Tokenizer\n",
        "from tokenizers.models import WordLevel\n",
        "from tokenizers.trainers import WordLevelTrainer\n",
        "from tokenizers.pre_tokenizers import Whitespace\n",
        "\n",
        "SPECIAL_TOKENS = [\"[UNK]\", \"[PAD]\", \"[SOS]\", \"[EOS]\"]\n",
        "UNK_TOKEN = \"[UNK]\"\n",
        "\n",
        "def train_tokenizer(dataset, language):\n",
        "    def get_all_sentences(ds, lang):\n",
        "        return (item['translation'][lang] for item in ds)\n",
        "\n",
        "    tokenizer = Tokenizer(WordLevel(unk_token=UNK_TOKEN))\n",
        "    tokenizer.pre_tokenizer = Whitespace()\n",
        "\n",
        "    trainer = WordLevelTrainer(special_tokens=SPECIAL_TOKENS)\n",
        "    tokenizer.train_from_iterator(get_all_sentences(dataset, language), trainer=trainer)\n",
        "\n",
        "    return tokenizer\n",
        "\n",
        "tokenizer_en = train_tokenizer(dataset, 'en')\n",
        "tokenizer_fr = train_tokenizer(dataset, 'fr')"
      ],
      "metadata": {
        "id": "KF6fpbFVEiQf"
      },
      "execution_count": 4,
      "outputs": []
    },
    {
      "cell_type": "code",
      "source": [
        "import torch\n",
        "import torch.nn as nn\n",
        "from torch.utils.data import Dataset\n",
        "\n",
        "\n",
        "class TranslationDataset(Dataset):\n",
        "    def __init__(self, ds, tokenizer_src, tokenizer_tgt, src_lang, tgt_lang, src_seq_len, tgt_seq_len):\n",
        "        super().__init__()\n",
        "        self.ds = ds\n",
        "        self.tokenizer_src = tokenizer_src\n",
        "        self.tokenizer_tgt = tokenizer_tgt\n",
        "        self.src_lang = src_lang\n",
        "        self.tgt_lang = tgt_lang\n",
        "        self.src_seq_len = src_seq_len\n",
        "        self.tgt_seq_len = tgt_seq_len\n",
        "        self.sos_token = torch.tensor([tokenizer_tgt.token_to_id(\"[SOS]\")], dtype=torch.int64)\n",
        "        self.eos_token = torch.tensor([tokenizer_tgt.token_to_id(\"[EOS]\")], dtype=torch.int64)\n",
        "        self.pad_token = torch.tensor([tokenizer_tgt.token_to_id(\"[PAD]\")], dtype=torch.int64)\n",
        "\n",
        "    def __len__(self):\n",
        "        return len(self.ds)\n",
        "\n",
        "    def _process_text(self, text, tokenizer, seq_len):\n",
        "        \"\"\"Tokenize text and handle SOS, EOS, and padding.\"\"\"\n",
        "        tokens = tokenizer.encode(text).ids\n",
        "        num_padding_tokens = seq_len - len(tokens) - 2  # Account for SOS and EOS tokens\n",
        "        if num_padding_tokens < 0:\n",
        "            raise ValueError(\"Sentence exceeds maximum sequence length\")\n",
        "\n",
        "        # Concatenate tokens with special tokens and padding\n",
        "        return torch.cat([\n",
        "            self.sos_token,\n",
        "            torch.tensor(tokens, dtype=torch.int64),\n",
        "            self.eos_token,\n",
        "            torch.tensor([self.pad_token] * num_padding_tokens, dtype=torch.int64)\n",
        "        ], dim=0)\n",
        "\n",
        "    def __getitem__(self, idx):\n",
        "        src_target_pair = self.ds[idx]\n",
        "        src_text = src_target_pair['translation'][self.src_lang]\n",
        "        tgt_text = src_target_pair['translation'][self.tgt_lang]\n",
        "\n",
        "        encoder_input = self._process_text(src_text, self.tokenizer_src, self.src_seq_len)\n",
        "        decoder_input = self._process_text(tgt_text, self.tokenizer_tgt, self.tgt_seq_len)\n",
        "\n",
        "        # Create label for the target text, without the SOS token but with the EOS token\n",
        "        label = torch.cat([\n",
        "            torch.tensor(self.tokenizer_tgt.encode(tgt_text).ids, dtype=torch.int64),\n",
        "            self.eos_token\n",
        "        ], dim=0)\n",
        "        label = torch.cat([label, torch.tensor([self.pad_token] * (self.tgt_seq_len - len(label)), dtype=torch.int64)], dim=0)\n",
        "\n",
        "        return {\n",
        "            \"encoder_input\": encoder_input,\n",
        "            \"decoder_input\": decoder_input,\n",
        "            \"encoder_mask\": (encoder_input != self.pad_token).unsqueeze(0).unsqueeze(0).int(),\n",
        "            \"decoder_mask\": (decoder_input != self.pad_token).unsqueeze(0).int() & causal_mask(decoder_input.size(0)),\n",
        "            \"label\": label,\n",
        "            \"src_text\": src_text,\n",
        "            \"tgt_text\": tgt_text\n",
        "        }\n",
        "\n",
        "def causal_mask(size):\n",
        "    mask = torch.triu(torch.ones((1, size, size)), diagonal=1).type(torch.int)\n",
        "    return mask == 0\n"
      ],
      "metadata": {
        "id": "ukRPzlkq6hMS"
      },
      "execution_count": 5,
      "outputs": []
    },
    {
      "cell_type": "code",
      "source": [
        "# Assuming you've trained tokenizer_en and tokenizer_fr\n",
        "src_seq_len = 100  # Example sequence length, you can adjust\n",
        "tgt_seq_len = 120  # Example sequence length, you can adjust\n",
        "\n",
        "ds = TranslationDataset(dataset, tokenizer_en, tokenizer_fr, 'en', 'fr', src_seq_len, tgt_seq_len)\n",
        "\n",
        "for i in range(2):\n",
        "    sample = ds[i]\n",
        "    print(\"Source Text:\", sample[\"src_text\"])\n",
        "    print(\"Target Text:\", sample[\"tgt_text\"])\n",
        "    print(\"Encoder Input:\", sample[\"encoder_input\"])\n",
        "    print(\"Decoder Input:\", sample[\"decoder_input\"])\n",
        "    print(\"Label:\", sample[\"label\"])\n",
        "    print('-' * 50)\n"
      ],
      "metadata": {
        "colab": {
          "base_uri": "https://localhost:8080/"
        },
        "id": "kVaggbWFEeWU",
        "outputId": "235cf3b3-1c7a-46fe-ac22-f75432d258a9"
      },
      "execution_count": 6,
      "outputs": [
        {
          "output_type": "stream",
          "name": "stdout",
          "text": [
            "Source Text: The Wanderer\n",
            "Target Text: Le grand Meaulnes\n",
            "Encoder Input: tensor([   2,   37, 2021,    3,    1,    1,    1,    1,    1,    1,    1,    1,\n",
            "           1,    1,    1,    1,    1,    1,    1,    1,    1,    1,    1,    1,\n",
            "           1,    1,    1,    1,    1,    1,    1,    1,    1,    1,    1,    1,\n",
            "           1,    1,    1,    1,    1,    1,    1,    1,    1,    1,    1,    1,\n",
            "           1,    1,    1,    1,    1,    1,    1,    1,    1,    1,    1,    1,\n",
            "           1,    1,    1,    1,    1,    1,    1,    1,    1,    1,    1,    1,\n",
            "           1,    1,    1,    1,    1,    1,    1,    1,    1,    1,    1,    1,\n",
            "           1,    1,    1,    1,    1,    1,    1,    1,    1,    1,    1,    1,\n",
            "           1,    1,    1,    1])\n",
            "Decoder Input: tensor([ 2, 83, 52, 31,  3,  1,  1,  1,  1,  1,  1,  1,  1,  1,  1,  1,  1,  1,\n",
            "         1,  1,  1,  1,  1,  1,  1,  1,  1,  1,  1,  1,  1,  1,  1,  1,  1,  1,\n",
            "         1,  1,  1,  1,  1,  1,  1,  1,  1,  1,  1,  1,  1,  1,  1,  1,  1,  1,\n",
            "         1,  1,  1,  1,  1,  1,  1,  1,  1,  1,  1,  1,  1,  1,  1,  1,  1,  1,\n",
            "         1,  1,  1,  1,  1,  1,  1,  1,  1,  1,  1,  1,  1,  1,  1,  1,  1,  1,\n",
            "         1,  1,  1,  1,  1,  1,  1,  1,  1,  1,  1,  1,  1,  1,  1,  1,  1,  1,\n",
            "         1,  1,  1,  1,  1,  1,  1,  1,  1,  1,  1,  1])\n",
            "Label: tensor([83, 52, 31,  3,  1,  1,  1,  1,  1,  1,  1,  1,  1,  1,  1,  1,  1,  1,\n",
            "         1,  1,  1,  1,  1,  1,  1,  1,  1,  1,  1,  1,  1,  1,  1,  1,  1,  1,\n",
            "         1,  1,  1,  1,  1,  1,  1,  1,  1,  1,  1,  1,  1,  1,  1,  1,  1,  1,\n",
            "         1,  1,  1,  1,  1,  1,  1,  1,  1,  1,  1,  1,  1,  1,  1,  1,  1,  1,\n",
            "         1,  1,  1,  1,  1,  1,  1,  1,  1,  1,  1,  1,  1,  1,  1,  1,  1,  1,\n",
            "         1,  1,  1,  1,  1,  1,  1,  1,  1,  1,  1,  1,  1,  1,  1,  1,  1,  1,\n",
            "         1,  1,  1,  1,  1,  1,  1,  1,  1,  1,  1,  1])\n",
            "--------------------------------------------------\n",
            "Source Text: Alain-Fournier\n",
            "Target Text: Alain-Fournier\n",
            "Encoder Input: tensor([   2, 1826,   21, 1892,    3,    1,    1,    1,    1,    1,    1,    1,\n",
            "           1,    1,    1,    1,    1,    1,    1,    1,    1,    1,    1,    1,\n",
            "           1,    1,    1,    1,    1,    1,    1,    1,    1,    1,    1,    1,\n",
            "           1,    1,    1,    1,    1,    1,    1,    1,    1,    1,    1,    1,\n",
            "           1,    1,    1,    1,    1,    1,    1,    1,    1,    1,    1,    1,\n",
            "           1,    1,    1,    1,    1,    1,    1,    1,    1,    1,    1,    1,\n",
            "           1,    1,    1,    1,    1,    1,    1,    1,    1,    1,    1,    1,\n",
            "           1,    1,    1,    1,    1,    1,    1,    1,    1,    1,    1,    1,\n",
            "           1,    1,    1,    1])\n",
            "Decoder Input: tensor([   2, 1986,   16, 2048,    3,    1,    1,    1,    1,    1,    1,    1,\n",
            "           1,    1,    1,    1,    1,    1,    1,    1,    1,    1,    1,    1,\n",
            "           1,    1,    1,    1,    1,    1,    1,    1,    1,    1,    1,    1,\n",
            "           1,    1,    1,    1,    1,    1,    1,    1,    1,    1,    1,    1,\n",
            "           1,    1,    1,    1,    1,    1,    1,    1,    1,    1,    1,    1,\n",
            "           1,    1,    1,    1,    1,    1,    1,    1,    1,    1,    1,    1,\n",
            "           1,    1,    1,    1,    1,    1,    1,    1,    1,    1,    1,    1,\n",
            "           1,    1,    1,    1,    1,    1,    1,    1,    1,    1,    1,    1,\n",
            "           1,    1,    1,    1,    1,    1,    1,    1,    1,    1,    1,    1,\n",
            "           1,    1,    1,    1,    1,    1,    1,    1,    1,    1,    1,    1])\n",
            "Label: tensor([1986,   16, 2048,    3,    1,    1,    1,    1,    1,    1,    1,    1,\n",
            "           1,    1,    1,    1,    1,    1,    1,    1,    1,    1,    1,    1,\n",
            "           1,    1,    1,    1,    1,    1,    1,    1,    1,    1,    1,    1,\n",
            "           1,    1,    1,    1,    1,    1,    1,    1,    1,    1,    1,    1,\n",
            "           1,    1,    1,    1,    1,    1,    1,    1,    1,    1,    1,    1,\n",
            "           1,    1,    1,    1,    1,    1,    1,    1,    1,    1,    1,    1,\n",
            "           1,    1,    1,    1,    1,    1,    1,    1,    1,    1,    1,    1,\n",
            "           1,    1,    1,    1,    1,    1,    1,    1,    1,    1,    1,    1,\n",
            "           1,    1,    1,    1,    1,    1,    1,    1,    1,    1,    1,    1,\n",
            "           1,    1,    1,    1,    1,    1,    1,    1,    1,    1,    1,    1])\n",
            "--------------------------------------------------\n"
          ]
        }
      ]
    },
    {
      "cell_type": "markdown",
      "source": [
        "## The output examined\n",
        "\n",
        "1. **Source Text**: \"The Wanderer\"\n",
        "2. **Target Text**: \"Le grand Meaulnes\"\n",
        "3. **Encoder Input**: This represents the tokenized and padded version of the source text. The sequence starts with the SOS token, followed by the tokenized sequence of the source text, the EOS token, and then padding (if required) until it reaches the specified `src_seq_len`.\n",
        "4. **Decoder Input**: This represents the tokenized and padded version of the target text. Just like the encoder input, it starts with an SOS token, followed by the tokenized sequence of the target text, an EOS token, and padding until `tgt_seq_len`.\n",
        "5. **Label**: This is similar to the `decoder_input`, but without the SOS token at the start. It starts directly with the tokenized sequence, then the EOS token, and finally the padding.\n",
        "\n",
        "Let's analyze the output:\n",
        "\n",
        "- `Encoder Input` has the sequence [2, 37, 2021, 3,...]. Here, `2` is the SOS token, `37` and `2021` are the token IDs for \"The\" and \"Wanderer\" respectively, `3` is the EOS token, and the rest are padding tokens (`1`).\n",
        "  \n",
        "- `Decoder Input` starts with `2` (SOS token), followed by the token IDs for \"Le\", \"grand\", and \"Meaulnes\", then the EOS token `3`, and the rest are padding tokens (`1`).\n",
        "\n",
        "- `Label` starts directly with the token IDs for \"Le\", \"grand\", and \"Meaulnes\", followed by the EOS token, and then the padding tokens.\n",
        "\n",
        "From a first glance, the output seems consistent with the logic you've implemented, and the tokens align with the expected tokens for the SOS, EOS, and PAD tokens.\n",
        "\n",
        "However, there are a few things to check:\n",
        "1. Ensure that the token IDs align correctly with the words in the tokenizers.\n",
        "2. Verify that the sequences are correctly padded to the specified sequence lengths (`src_seq_len` and `tgt_seq_len`).\n",
        "3. It's essential to make sure that this consistent formatting holds true for all the other samples in the dataset.\n",
        "\n",
        "If all of the above checks out, then the output is indeed okay."
      ],
      "metadata": {
        "id": "A9rORYtVGBj9"
      }
    },
    {
      "cell_type": "markdown",
      "source": [
        "# Glossary"
      ],
      "metadata": {
        "id": "h1l87M0PffGA"
      }
    },
    {
      "cell_type": "markdown",
      "source": [
        "To plot two graphs side by side using `matplotlib`, you can use the `subplots` function. Here's how you can do it:\n",
        "\n",
        "1. Create a figure and axes using `plt.subplots`.\n",
        "2. Plot on each of the axes.\n",
        "3. Adjust settings as needed.\n",
        "\n",
        "Here's a simple example to plot two heatmaps side by side:\n",
        "\n",
        "``` python\n",
        "import matplotlib.pyplot as plt\n",
        "import numpy as np\n",
        "\n",
        "# Sample data\n",
        "data1 = np.random.random((10, 10))\n",
        "data2 = np.random.random((10, 10))\n",
        "\n",
        "fig, (ax1, ax2) = plt.subplots(1, 2, figsize=(12, 5))  # 1 row, 2 columns\n",
        "\n",
        "# Plotting on the first axis\n",
        "cax1 = ax1.matshow(data1, cmap='viridis')\n",
        "fig.colorbar(cax1, ax=ax1)\n",
        "ax1.set_title(\"Heatmap 1\")\n",
        "\n",
        "# Plotting on the second axis\n",
        "cax2 = ax2.matshow(data2, cmap='viridis')\n",
        "fig.colorbar(cax2, ax=ax2)\n",
        "ax2.set_title(\"Heatmap 2\")\n",
        "\n",
        "plt.tight_layout()\n",
        "plt.show()\n",
        "```\n",
        "\n",
        "You can replace `data1` and `data2` with your masks or any other data you'd like to visualize. Adjust the `figsize` argument to change the size of the entire figure."
      ],
      "metadata": {
        "id": "Fmrzt0JDfg1W"
      }
    },
    {
      "cell_type": "code",
      "source": [
        "import matplotlib.pyplot as plt\n",
        "import numpy as np\n",
        "\n",
        "# Sample data\n",
        "data1 = np.random.random((10, 10))\n",
        "data2 = np.random.random((10, 10))\n",
        "\n",
        "fig, (ax1, ax2) = plt.subplots(1, 2, figsize=(12, 5))  # 1 row, 2 columns\n",
        "\n",
        "# Plotting on the first axis\n",
        "cax1 = ax1.matshow(data1, cmap='viridis')\n",
        "fig.colorbar(cax1, ax=ax1)\n",
        "ax1.set_title(\"Heatmap 1\")\n",
        "\n",
        "# Plotting on the second axis\n",
        "cax2 = ax2.matshow(data2, cmap='viridis')\n",
        "fig.colorbar(cax2, ax=ax2)\n",
        "ax2.set_title(\"Heatmap 2\")\n",
        "\n",
        "plt.tight_layout()\n",
        "plt.show()\n"
      ],
      "metadata": {
        "colab": {
          "base_uri": "https://localhost:8080/",
          "height": 535
        },
        "id": "Fsy6j7SSfZ-M",
        "outputId": "152dda46-0035-4711-d8b1-a87a30075e08"
      },
      "execution_count": 37,
      "outputs": [
        {
          "output_type": "display_data",
          "data": {
            "text/plain": [
              "<Figure size 1200x500 with 4 Axes>"
            ],
            "image/png": "[encoded data removed]"
          },
          "metadata": {}
        }
      ]
    }
  ]
}